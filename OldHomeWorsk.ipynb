{
 "cells": [
  {
   "cell_type": "markdown",
   "id": "108a790c",
   "metadata": {},
   "source": [
    "# Урок 4\n"
   ]
  },
  {
   "cell_type": "markdown",
   "id": "f17a7672",
   "metadata": {},
   "source": [
    "\n",
    "Задача № 1:\n",
    " \n",
    "Пользователь вводит номер месяца (от 1 до 12). Вывести название сезона года на экран (зима, весна, лето, осень);\n",
    "\n",
    "Sample Input:\n",
    "12\n",
    "\n",
    "Sample Output:\n",
    "Зима\n"
   ]
  },
  {
   "cell_type": "code",
   "execution_count": 4,
   "id": "4d1b2254",
   "metadata": {},
   "outputs": [
    {
     "name": "stdout",
     "output_type": "stream",
     "text": [
      "Введите номер месяца(число от 1 до 12:12\n",
      "Зима\n"
     ]
    }
   ],
   "source": [
    "MonthNumber=int(input(\"Введите номер месяца(число от 1 до 12:\"))\n",
    "if (MonthNumber==1 or MonthNumber==2 or MonthNumber==12):\n",
    "    print(\"Зима\")\n",
    "elif (MonthNumber==3 or MonthNumber==4 or MonthNumber==5):\n",
    "    print(\"Весна\")\n",
    "elif (MonthNumber==6 or MonthNumber==7 or MonthNumber==8):\n",
    "    print(\"Лето\")\n",
    "elif (MonthNumber==9 or MonthNumber==10 or MonthNumber==11):\n",
    "    print(\"Осень\")\n",
    "elif(MonthNumber<1 or MonthNumber>12):\n",
    "    print(\"Введенное число не является номером месяца\")"
   ]
  },
  {
   "cell_type": "markdown",
   "id": "532536a4",
   "metadata": {},
   "source": [
    "Задача № 2:\n",
    " \n",
    "Пользователь вводит число. Программа должна проверить делится ли число на 6.\n",
    "\n",
    "Sample Input:\n",
    "12\n",
    "\n",
    "Sample Output:\n",
    "Делится\n",
    "\n",
    "Sample Input:\n",
    "23\n",
    "\n",
    "Sample Output:\n",
    "Не делится\n",
    "\n"
   ]
  },
  {
   "cell_type": "code",
   "execution_count": 1,
   "id": "42f5a72e",
   "metadata": {},
   "outputs": [
    {
     "name": "stdout",
     "output_type": "stream",
     "text": [
      "Введите число и узнайте делится ли оно на шесть:23\n",
      "Не делится\n"
     ]
    }
   ],
   "source": [
    "MyNumber=int(input(\"Введите число и узнайте делится ли оно на шесть:\"))\n",
    "if(MyNumber%6==0):\n",
    "    print(\"Делится\")\n",
    "else:\n",
    "    print(\"Не делится\")"
   ]
  },
  {
   "cell_type": "markdown",
   "id": "a193385c",
   "metadata": {},
   "source": [
    "Цель задания\n",
    "В данном задании целью является первоначальная практика и работа, как с кодом, так и с пользовательской строкой. Также в этих заданиях мы работаем с функцией кратности (%) и определением переменных и сравнение их с тем, что ввёл пользователь.\n",
    " \n",
    "План выполнения\n",
    "\n",
    "Задать условия задачи так, чтобы выполнялись условия домашнего задания, опираясь на предыдущие изученные видео. Не забывайте, что в Вашем распоряжении есть такие символы, как: ==, or, and, >=, <= и так далее.\n",
    "Задайте функцию вывода\n",
    " \n",
    "Убедитесь, что выполняются все задачи домашнего задания и используются только те параметры, которые для него нужны. Например, если Вы используете символы >= в первом задании, то под Ваши условия не попадает “0”.\n",
    " \n",
    "В задании №2 нужно лишь указать одно условие, которое уже было указано, это кратность (%)\n"
   ]
  },
  {
   "cell_type": "markdown",
   "id": "d972dad0",
   "metadata": {},
   "source": [
    "# Урок 6\n"
   ]
  },
  {
   "cell_type": "markdown",
   "id": "14c26af3",
   "metadata": {},
   "source": [
    "Напишите программу перевода введенного веса в граммы, килограммы, тонны. Приставки, которые будет использовать программа: g – граммы, kg – килограммы, t – тонны.\n",
    "\n",
    "Sample Input:\n",
    "12kg\n",
    " \n",
    "Sample Output:\n",
    "12000g\n",
    " \n",
    "0.012t\n"
   ]
  },
  {
   "cell_type": "code",
   "execution_count": 5,
   "id": "51c4f51c",
   "metadata": {},
   "outputs": [
    {
     "name": "stdout",
     "output_type": "stream",
     "text": [
      "Введите вес, используя  \n",
      " t для тонн \n",
      " kg для килограммов \n",
      " t для тонн\n",
      " при этои между числовым значением и единицей измерения не делайте нпробелов \n",
      " 12kg\n",
      "12kg\n",
      "12000.0g\n",
      "\n",
      "0.012t\n"
     ]
    }
   ],
   "source": [
    "#получаем исходную строку\n",
    "text=input(\"Введите вес, используя  \\n t для тонн \\n kg для килограммов \\n t для тонн\\n при этои между числовым значением и единицей измерения не делайте нпробелов \\n \")\n",
    "print (text)\n",
    "# переворвчиваем строку\n",
    "ForEdIzm=text[::-1]\n",
    "# получаем первые два символа перевернутой строки для определения единиц измерения\n",
    "ForEdIzm_1=ForEdIzm[:1]\n",
    "ForEdIzm_2=ForEdIzm[:2]\n",
    "# определяем введеную единицу изиерения 1- если граммы, 2- если килограммы, 3 - если тонны\n",
    "EdIzm=0\n",
    "if(ForEdIzm_1==\"g\"):\n",
    "    EdIzm=1\n",
    "elif(ForEdIzm_1==\"t\"):\n",
    "    EdIzm=3\n",
    "if(ForEdIzm_2==\"gk\"):\n",
    "    EdIzm=2\n",
    "# выделяем числовое значение\n",
    "if(EdIzm==2):\n",
    "    OurValue=text[:len(text)-2]\n",
    "elif(EdIzm==1 or EdIzm==3):\n",
    "    OurValue=text[:len(text)-1]\n",
    "OurValue=float(OurValue)\n",
    "\n",
    "\n",
    "# определяем выходную строку\n",
    "OutString=\"\"\n",
    "if(EdIzm==1):\n",
    "    OutString=OutString+ \"\\n\"\n",
    "    OutString=OutString+str(OurValue/1000)+\"kg\"+\"\\n\"\n",
    "    OutString=OutString+str(OurValue/1000000)+\"t\"+\"\\n\"\n",
    "elif(EdIzm==2):\n",
    "    OutString=OutString+str(OurValue*1000)+\"g\"+\"\\n\"+\"\\n\"\n",
    "    OutString=OutString+str(OurValue/1000)+\"t\"\n",
    "elif(EdIzm==3):\n",
    "    OutString=OutString+str(OurValue*1000000)+\"g\"+\"\\n\"\n",
    "    OutString=OutString+str(OurValue*1000)+\"kg\"+\"\\n\"\n",
    "\n",
    "print (OutString)"
   ]
  },
  {
   "cell_type": "markdown",
   "id": "8b92f27e",
   "metadata": {},
   "source": [
    "Цель задания: В данной практической работе целью является не только работа со строкой пользователя, но и также первая работа с определением, чем является вводимые данные, также работа с изменением вывода данных. \n",
    "\n",
    "План выполнения\n",
    " Создайте переменную, которая будет принимать строку пользователя Преобразуйте введенное число и приставки для вывода с помощью функции elif. Задайте функцию вывода Проверьте работоспособность Вашей программы с разными приставками.\n",
    "\n"
   ]
  },
  {
   "cell_type": "markdown",
   "id": "65c915ad",
   "metadata": {},
   "source": [
    "# Урок 8"
   ]
  },
  {
   "cell_type": "markdown",
   "id": "df8696b1",
   "metadata": {},
   "source": [
    "Задача № 1:\n",
    " \n",
    "Написать программу, которая считывает 5 чисел со стандартного ввода и выводит на экран результат их произведения.\n",
    "\n",
    "Sample Input:\n",
    "3 4 2 1 1\n",
    "\n",
    "Sample Output:\n",
    "24\n"
   ]
  },
  {
   "cell_type": "code",
   "execution_count": 6,
   "id": "bfbbc815",
   "metadata": {},
   "outputs": [
    {
     "name": "stdout",
     "output_type": "stream",
     "text": [
      "Введите 1-е число из пяти:3\n",
      "Введите 2-е число из пяти:4\n",
      "Введите 3-е число из пяти:2\n",
      "Введите 4-е число из пяти:1\n",
      "Введите 5-е число из пяти:1\n",
      "Произведение введеных пяти чисел равно -  24\n"
     ]
    }
   ],
   "source": [
    "proiz=1\n",
    "for i in range(5):\n",
    "    proiz= proiz*int(input(\"Введите \" + str(i+1) + \"-е число из пяти:\"))\n",
    "print(\"Произведение введеных пяти чисел равно - \",proiz)"
   ]
  },
  {
   "cell_type": "markdown",
   "id": "cf50ca36",
   "metadata": {},
   "source": [
    "Задача № 2 :\n",
    "Написать программу которая получает со стандартного ввода строку и выводит на экран количество заглавных символов\n",
    "Примечание: для решения можете воспользоваться специальным методом isupper()\n",
    "\n",
    "Sample Input:\n",
    "Hello, ToM. I aM haPPy.\n",
    "\n",
    "Sample Output:\n",
    "7\n"
   ]
  },
  {
   "cell_type": "code",
   "execution_count": 7,
   "id": "39e58409",
   "metadata": {},
   "outputs": [
    {
     "name": "stdout",
     "output_type": "stream",
     "text": [
      "Введите истроку, в которой будет подсчитано количество заглавных букв:Hello, ToM. I aM haPPy\n",
      "Количество заглавных букв в введенной строке равно -  7\n"
     ]
    }
   ],
   "source": [
    "HowManyUpperLetters=0\n",
    "text=input(\"Введите истроку, в которой будет подсчитано количество заглавных букв:\")\n",
    "for j in range(0,len(text)):\n",
    "    if text[j].isupper():\n",
    "        HowManyUpperLetters+=1\n",
    "print(\"Количество заглавных букв в введенной строке равно - \", HowManyUpperLetters)"
   ]
  },
  {
   "cell_type": "markdown",
   "id": "a6192d27",
   "metadata": {},
   "source": [
    "Цель задания  \n",
    "В первом задании нужно принять пять чисел, которые введет пользователь. Перемножить эти числа и вывести результат этого произведения.                                              Во втором задании нужно принять строку пользователя и используя метод isupper сосчитать все заглавные буквы в пользовательской строке.\n",
    "\n",
    "План выполнения\n",
    "\n",
    "Задание №1\n",
    "\n",
    "УСоздайте переменную, которая(ые) будет принимать строку(строки) пользователя.\n",
    "Создайте функцию, которая будет перемножать вводимые пользователем числа.\n",
    "Задайте функцию вывода.\n",
    "\n",
    "Задание №2\n",
    "\n",
    "Создайте переменную, которая будет принимать строку пользователя.\n",
    "Используйте функцию isupper для счёта строки пользователя\n",
    "Задайте функцию вывода\n"
   ]
  },
  {
   "cell_type": "markdown",
   "id": "86ed2ca4",
   "metadata": {},
   "source": [
    "# Урок 9\n"
   ]
  },
  {
   "cell_type": "markdown",
   "id": "9779b22a",
   "metadata": {},
   "source": [
    "Задача № 1:\n",
    " \n",
    "Вам необходимо в строке, полученной со стандартного ввода найти все цифры и заменить их на букву латинского алфавита, располагающуюся по данному индексу (все символы в строке вводятся в нижнем регистре).\n",
    "Примечание: две цифры не могут располагаться рядом. Те если у вас есть строка «19у» это значит что у вас одна цифра 19, а не 1 и 9. Как результат вы должны получить «sy»\n",
    "\n",
    "\n",
    "Sample Input:\n",
    "Hel12o 16e15ple\n",
    "\n",
    "Sample Output:\n",
    "Hello people\n"
   ]
  },
  {
   "cell_type": "code",
   "execution_count": 8,
   "id": "25309c79",
   "metadata": {},
   "outputs": [
    {
     "name": "stdout",
     "output_type": "stream",
     "text": [
      "Введите исходнкю строку:Hel12o 16e15ple\n",
      "Преобразованная строка выглядит следующим образом - Hello people\n"
     ]
    }
   ],
   "source": [
    "#определяем и инициализируем переменные\n",
    "alpf=\"0abcdefghijklmnopqrstuvwxyz\"\n",
    "MyString=input(\"Введите исходнкю строку:\")\n",
    "outString=\"\"\n",
    "inString=MyString + \"#\"\n",
    "i=0\n",
    "while i<len(inString)-1:\n",
    "    FirstSubString=inString[i]\n",
    "    SecondSubString=inString[i:(i+2)]\n",
    "    FirstIsNumber=FirstSubString.isdigit()\n",
    "    SecondIsNumber=SecondSubString.isdigit()\n",
    "    if(FirstIsNumber and SecondIsNumber):\n",
    "        outString=outString+alpf[int(SecondSubString)]\n",
    "        i+=2\n",
    "    elif(FirstIsNumber and not(SecondIsNumber)):\n",
    "        outString=outString+alpf[int(FirstSubString)]\n",
    "        i+=1\n",
    "    else:\n",
    "        outString=outString+inString[i]\n",
    "        i+=1\n",
    "print(\"Преобразованная строка выглядит следующим образом - \"+outString)"
   ]
  },
  {
   "cell_type": "markdown",
   "id": "39a0a792",
   "metadata": {},
   "source": [
    "Задача № 2:\n",
    "Вам необходимо в строке, полученной со стандартного ввода, найти повторяющиеся символы (одинаковые символы, стоящие рядом друг с другом) и заменить их на один такой символ.\n",
    "Sample Input:\n",
    "I loove Pyythhon!!!!!\n",
    "Sample Output:\n",
    "I love Python!\n"
   ]
  },
  {
   "cell_type": "code",
   "execution_count": 10,
   "id": "fdbcd6be",
   "metadata": {},
   "outputs": [
    {
     "name": "stdout",
     "output_type": "stream",
     "text": [
      "Введите исходную строку:I loove Pyythhon!!!!! \n",
      "Преобразованная строка - I love Python! \n"
     ]
    }
   ],
   "source": [
    "InString=input(\"Введите исходную строку:\")\n",
    "outString=\"\"\n",
    "inString= InString + \"#\"\n",
    "i=0\n",
    "while i<(len(inString)-1):\n",
    "    if(inString[i]==inString[i+1]):\n",
    "        i+=1\n",
    "    else:\n",
    "        outString+=inString[i]\n",
    "        i+=1\n",
    "print(\"Преобразованная строка - \"+outString)"
   ]
  },
  {
   "cell_type": "markdown",
   "id": "e69dbedd",
   "metadata": {},
   "source": [
    "Цель задания\n",
    "Данные домашние задания будут немного сложнее, где уже требуется не только работа с видео лекцией, но и с посторонними источниками. От Вас уже требуется не только считать строку пользователя, но и преобразовать её. В Данном случае будет преобразование цифр в строке пользователя на буквы, которые будут заданы в программе, так и работа с повторяющимися символами, их удалением и последующим выводом получившегося результата.\n",
    "\n",
    "План выполнения\n",
    "\n",
    "            Задача №1\n",
    "\n",
    "Создайте переменную, которая будет принимать строку пользователя.\n",
    "Создайте алфавит\n",
    "Задайте условия преобразования цифр в заданные выше алфавитом буквы.\n",
    "Задайте функцию вывода\n",
    "            \n",
    "            Задача №2\n",
    "            \n",
    "Создайте переменную, которая будет принимать строку пользователя.\n",
    "Создайте функцию подсчёта нескольких одинаковых символов подряд\n",
    "Удалите ненужные символы\n",
    "Задайте функцию вывода\n"
   ]
  },
  {
   "cell_type": "markdown",
   "id": "97effc97",
   "metadata": {},
   "source": [
    "# Урок 10\n"
   ]
  },
  {
   "cell_type": "markdown",
   "id": "1dd2d6d4",
   "metadata": {},
   "source": [
    "Создайте список чисел от 10 до 45 с шагом 5\n",
    "\n",
    "Используя цикл while выведите на экран числа от 1 до 5\n",
    "\n",
    "Дана строка “123467”, но в ней пропущена одна цифра. Использую функцию, выведите на экран строку со вставленной цифрой.\n",
    "\n",
    "Дана строка “Если долго будешь писать на питоне - начнёшь говорить со змеями”. Нужно вывести на экран количество букв “о”\n",
    " \n"
   ]
  },
  {
   "cell_type": "code",
   "execution_count": 11,
   "id": "dff15310",
   "metadata": {},
   "outputs": [
    {
     "name": "stdout",
     "output_type": "stream",
     "text": [
      "[10, 15, 20, 25, 30, 35, 40, 45]\n"
     ]
    }
   ],
   "source": [
    "OurList=list(range(10,50,5))\n",
    "print(OurList)"
   ]
  },
  {
   "cell_type": "code",
   "execution_count": 12,
   "id": "72510289",
   "metadata": {},
   "outputs": [
    {
     "name": "stdout",
     "output_type": "stream",
     "text": [
      "1\n",
      "2\n",
      "3\n",
      "4\n",
      "5\n"
     ]
    }
   ],
   "source": [
    "i=1\n",
    "while i<6:\n",
    "    print (i)\n",
    "    i+=1"
   ]
  },
  {
   "cell_type": "code",
   "execution_count": 13,
   "id": "b91a3ea7",
   "metadata": {},
   "outputs": [
    {
     "name": "stdout",
     "output_type": "stream",
     "text": [
      "1234567\n"
     ]
    }
   ],
   "source": [
    "OurString=\"123467\"\n",
    "OurList=list(OurString)\n",
    "OurList.insert(4,\"5\")\n",
    "#OutString=\"\".join(OurList)\n",
    "print(\"\".join(OurList))"
   ]
  },
  {
   "cell_type": "code",
   "execution_count": 14,
   "id": "9e170087",
   "metadata": {},
   "outputs": [
    {
     "name": "stdout",
     "output_type": "stream",
     "text": [
      "Количество букв -о- в заданной строке равно -  6\n"
     ]
    }
   ],
   "source": [
    "OurString=\"Если долго будешь писать на питоне - начнёшь говорить со змеями\"\n",
    "#OurList=list(OurString)\n",
    "MyNumber=0\n",
    "for i in(range(0,len(OurString))):\n",
    "    if (OurString[i]==\"о\"):\n",
    "        MyNumber+=1\n",
    "print (\"Количество букв -о- в заданной строке равно - \", MyNumber)"
   ]
  },
  {
   "cell_type": "markdown",
   "id": "73e5410a",
   "metadata": {},
   "source": [
    "Цель задания\n",
    "В данных заданиях будет проводиться работа с уже заданной строкой, поэтому не нужно отвечать на все условия работы. Цель в этих заданиях научиться работать не только с числами, но и со строками. Работа будет проводится с созданием новых цифр, работа с элементами строки, вставкой элемента по индексу и так же подсчёт элементов в строке.\n",
    "\n",
    "План выполнения\n",
    "\n",
    "Задача №1\n",
    "\n",
    "Напишите функцию выявления границ списка из чисел и шага для отображения.\n",
    "Задайте функцию вывода\n",
    "\n",
    "Задача №2\n",
    "\n",
    "Используйте функцию while для того, чтобы задать цикл и определите границы цикла\n",
    "Задайте функцию вывода\n",
    "\n",
    "Задача №3\n",
    "\n",
    "Создайте переменную в которой будет заданная строка\n",
    "Используйте функцию вставки нужной цифры по индексу\n",
    "Задайте функцию вывода\n",
    "\n",
    "Задача №4\n",
    "\n",
    "Создайте переменную в которой будет заданная строка\n",
    "Создайте функцию, в которой будет подсчёт нужного символа\n",
    "Задайте функцию вывода\n",
    "\n",
    "\n"
   ]
  },
  {
   "cell_type": "markdown",
   "id": "89f13d2d",
   "metadata": {},
   "source": [
    "# Урок 13\n"
   ]
  },
  {
   "cell_type": "markdown",
   "id": "6867a724",
   "metadata": {},
   "source": [
    "Даны два параметра вывода “Я ученик”. Используя функцию def выведите на экран “Я лучший ученик Синергии!”\n",
    "\n",
    "\n",
    "Даны числа “2, 4, 6, 8, 10”. В этом списке нужно выписать все числа кратные “4” и умножить их на 2. Вывести на экран.\n"
   ]
  },
  {
   "cell_type": "code",
   "execution_count": 15,
   "id": "6aa6a935",
   "metadata": {},
   "outputs": [
    {
     "name": "stdout",
     "output_type": "stream",
     "text": [
      "Я лучший ученик Синергии \n"
     ]
    }
   ],
   "source": [
    "MyInputString=\"Я ученик\"\n",
    "def MySolutionToTaskOne(InString):\n",
    "    MyList=InString.split()\n",
    "    MyList.insert(1,\"лучший\")\n",
    "    MyList.append(\"Синергии\")\n",
    "    return(MyList)\n",
    "\n",
    "OutList=MySolutionToTaskOne(MyInputString)\n",
    "OutString=\"\"\n",
    "for i in(OutList):\n",
    "    OutString+=i+\" \"\n",
    "print (OutString)"
   ]
  },
  {
   "cell_type": "code",
   "execution_count": 17,
   "id": "ead93720",
   "metadata": {},
   "outputs": [
    {
     "name": "stdout",
     "output_type": "stream",
     "text": [
      "['8', '16']\n"
     ]
    }
   ],
   "source": [
    "MyInputString=\"2, 4, 6, 8, 10\"\n",
    "MyList=MyInputString.split(\", \")\n",
    "\n",
    "for item in MyList[::-1]:\n",
    "    if int(item)%4==0:\n",
    "        i=MyList.index(item)\n",
    "        MyList[i]=str(int(item)*2)\n",
    "    else:\n",
    "         MyList.remove(item)\n",
    "print(MyList)"
   ]
  },
  {
   "cell_type": "markdown",
   "id": "27b70813",
   "metadata": {},
   "source": [
    "Цель задания\n",
    "В данном задании мы учимся работать с функцией def и работа с заданной строкой.\n",
    "\n",
    "План выполнения\n",
    "\n",
    "Задача №1\n",
    "\n",
    "Задайте переменную в которой будет находится заданные слова.\n",
    "Используйте функцию def, для того чтобы работать с индексом и вставкой новых данных\n",
    "Задайте функцию вывода\n",
    "\n",
    "Задача №2\n",
    "\n",
    "Создайте переменную, в которой будут находится заданные цифры\n",
    "Задайте функцию, которая будет проходить по индексу заданной строки и искать нужные цифры\n",
    "Задать функции удалять не найденные цифры, а найденные умножить на 2.\n",
    "Задайте функцию вывода\n"
   ]
  },
  {
   "cell_type": "markdown",
   "id": "6df58313",
   "metadata": {},
   "source": [
    "# Урок 16\n"
   ]
  },
  {
   "cell_type": "markdown",
   "id": "1ce7caf9",
   "metadata": {},
   "source": [
    "Задача № 1:\n",
    " \n",
    "Создайте словарь, где ключами и значениями будут числа от 1 до 9. Затем, с помощью этого словаря отобразите на экране таблицу умножения. Для создания словаря, воспользуйтесь генератором.\n",
    "\n",
    "Sample Output:\n",
    "\n",
    "   1   2   3   4   5   6   7   8   9\n",
    "   \n",
    "   2   4   6   8  10  12  14  16  18\n",
    "   \n",
    "   3   6   9  12  15  18  21  24  27\n",
    "   \n",
    "   4   8  12  16  20  24  28  32  36\n",
    "   \n",
    "   5  10  15  20  25  30  35  40  45\n",
    "   \n",
    "   6  12  18  24  30  36  42  48  54\n",
    "   \n",
    "   7  14  21  28  35  42  49  56  63\n",
    "   \n",
    "   8  16  24  32  40  48  56  64  72\n",
    "   \n",
    "   9  18  27  36  45  54  63  72  81\n",
    "   \n",
    "Дана строка в виде случайной последовательности чисел от 0 до 9."
   ]
  },
  {
   "cell_type": "code",
   "execution_count": 18,
   "id": "67c8e76e",
   "metadata": {},
   "outputs": [
    {
     "name": "stdout",
     "output_type": "stream",
     "text": [
      "1\t2\t3\t4\t5\t6\t7\t8\t9\t\n",
      "\n",
      "2\t4\t6\t8\t10\t12\t14\t16\t18\t\n",
      "\n",
      "3\t6\t9\t12\t15\t18\t21\t24\t27\t\n",
      "\n",
      "4\t8\t12\t16\t20\t24\t28\t32\t36\t\n",
      "\n",
      "5\t10\t15\t20\t25\t30\t35\t40\t45\t\n",
      "\n",
      "6\t12\t18\t24\t30\t36\t42\t48\t54\t\n",
      "\n",
      "7\t14\t21\t28\t35\t42\t49\t56\t63\t\n",
      "\n",
      "8\t16\t24\t32\t40\t48\t56\t64\t72\t\n",
      "\n",
      "9\t18\t27\t36\t45\t54\t63\t72\t81\t\n",
      "\n"
     ]
    }
   ],
   "source": [
    "InputString=\"3579840126\" #строка случайной последовательности чисел от \"0\" до \"9\"\n",
    "MyList=list(InputString)\n",
    "MyList.sort()#сотрируем список по возрастанию\n",
    "for it in (MyList): # удаляем из списка \"0\"\n",
    "    if int(it)<1:\n",
    "        MyList.remove(it)\n",
    "#генератор словаря\n",
    "MyDic={ int(x):int(x) for x in(MyList)}\n",
    "# вывод на экран таблицы умножения\n",
    "for key in (MyDic):\n",
    "    for value in(MyDic):\n",
    "        print(str(key*value), end=\"\\t\")\n",
    "    print(\"\\n\" )\n",
    "\n"
   ]
  },
  {
   "cell_type": "markdown",
   "id": "2d9d1336",
   "metadata": {},
   "source": [
    "Задача № 2:\n",
    " \n",
    "Требуется создать словарь, который в качестве ключей будет принимать данные числа (т. е. ключи будут типом int), а в качестве значений – количество этих чисел в имеющейся последовательности. Для построения словаря создайте функцию count_it(sequence), принимающую строку из цифр. Функция должна возвратить словарь из 3-х самых часто встречаемых чисел.\n",
    "\n",
    "Sample Input:\n",
    "\n",
    "2122234555768290909389\n",
    "\n",
    "Sample Output:\n",
    "\n",
    "{2 :  5, 5 : 3, 9 : 4}\n"
   ]
  },
  {
   "cell_type": "code",
   "execution_count": 19,
   "id": "02f8256d",
   "metadata": {},
   "outputs": [
    {
     "name": "stdout",
     "output_type": "stream",
     "text": [
      "{2: 5, 9: 4, 5: 3}\n"
     ]
    }
   ],
   "source": [
    "# определим глобальные переменные\n",
    "global InDict \n",
    "global OutDict\n",
    "\n",
    "# функция получения ключа элемента с максимальным значением\n",
    "def KeyOfMaxValueDict(InDict):\n",
    "    KeyOfMaxValueDict=0\n",
    "    MaxVal=0\n",
    "    for key in(InDict):\n",
    "        if InDict[key]>MaxVal:\n",
    "            MaxVal=InDict[key]\n",
    "            KeyOfMaxValueDict=key\n",
    "    return KeyOfMaxValueDict\n",
    "\n",
    "# функция переноса элемента по ключу из одного словаря в другой\n",
    "def ReplaceMembersofDictionary(InDict,OutDict,MyKey):\n",
    "    mk=MyKey\n",
    "    mv=InDict[MyKey]\n",
    "    OutDict.update({mk:mv})\n",
    "    InDict.pop(MyKey)\n",
    "\n",
    "# основная функция задачи\n",
    "def count_it(sequence):\n",
    "    InputString=sequence\n",
    "\n",
    "    #преобразование входных данных        \n",
    "    MyList=list(InputString)\n",
    "    #формируем исходный словарь\n",
    "    SourseDict=dict()\n",
    "    for i in(range(10)):\n",
    "        col=MyList.count(str(i))\n",
    "        SourseDict.update({i:col})\n",
    "    KeyMax=KeyOfMaxValueDict(SourseDict)\n",
    "    OutDict=dict()\n",
    "    InDict=SourseDict.copy()\n",
    "    ReplaceMembersofDictionary(InDict,OutDict,KeyMax)\n",
    "   \n",
    "    for i in(range(2)):\n",
    "        NewMaxKey=KeyOfMaxValueDict(InDict)\n",
    "        ReplaceMembersofDictionary(InDict,OutDict,NewMaxKey)\n",
    "    return(OutDict)\n",
    "    #print(OutDict)\n",
    "\n",
    "# код основной программы\n",
    "count_it(\"2122234555768290909389\")\n",
    "print(count_it(\"2122234555768290909389\"))"
   ]
  },
  {
   "cell_type": "markdown",
   "id": "bc0ac49b",
   "metadata": {},
   "source": [
    "Цель задания\n",
    "\n",
    "В данном задании мы учимся работать с генератором, словарём и функцией count_it(sequence) и строкой вывода для конкретного значения.\n",
    "\n",
    "План выполнения\n",
    "\n",
    "Задача №1\n",
    "\n",
    "Напишите генератор, который будет содержать в себе значения от 1 до 9 по вертикали и диагонали и их перемножение с дальнейшим выводом\n",
    "Задайте функцию вывода генератора на экран\n",
    "\n",
    "Задача №2\n",
    "\n",
    "Используя функцию count_it(sequence) задайте её свойства для подсчёта цифр\n",
    "Используйте словарь, чтобы можно было определять наибольшее количество повторяющихся элементов по каждой цифре\n",
    "Задайте функцию вывода\n"
   ]
  },
  {
   "cell_type": "markdown",
   "id": "8f697f27",
   "metadata": {},
   "source": [
    "# Урок 17\n"
   ]
  },
  {
   "cell_type": "markdown",
   "id": "b30550a9",
   "metadata": {},
   "source": [
    "Создать текстовой файл, в котором будет хранится: Приветствие, Ваше имя и Ваше направление в обучении.\n"
   ]
  },
  {
   "cell_type": "code",
   "execution_count": null,
   "id": "8e2f1bcd",
   "metadata": {},
   "outputs": [],
   "source": [
    "with open('17.txt','w',encoding='utf-8') as my_file:\n",
    "    my_file.writelines(\"Здравствуйте!\\n\")\n",
    "    my_file.writelines(\"Проскуряков Вадим\\n\")\n",
    "    my_file.writelines(\"Data Scientist\")"
   ]
  },
  {
   "cell_type": "markdown",
   "id": "77f2618f",
   "metadata": {},
   "source": [
    "Цель задания\n",
    "\n",
    "Является научиться создать текстовой файл, в котором будут хранится определённые данные.\n",
    "\n",
    "План выполнения\n",
    "\n",
    "\n",
    "Задайте функцию создания текстового файла\n",
    "Установите параметры для отображения и сохранения определённых данных в установленном текстовом файле\n",
    " "
   ]
  },
  {
   "cell_type": "markdown",
   "id": "33a45f5a",
   "metadata": {},
   "source": [
    "# Урок 19\n"
   ]
  },
  {
   "cell_type": "markdown",
   "id": "42a8bf28",
   "metadata": {},
   "source": [
    "Используя библиотеку NumPy:\n",
    "\n",
    "Создайте строку от 0 до 10\n",
    "\n",
    "Поменяйте местами цифры 5 8\n",
    "\n",
    "Выведите на экран два массива: первоначальный и изменённый\n",
    "\n",
    "Объедините их\n",
    "\n",
    "Сделайте из этой строки 3 столба\n",
    " \n"
   ]
  },
  {
   "cell_type": "code",
   "execution_count": 46,
   "id": "a4661d4e",
   "metadata": {},
   "outputs": [
    {
     "name": "stdout",
     "output_type": "stream",
     "text": [
      "Первоначальный массив\t \t [ 0  1  2  3  4  5  6  7  8  9 10]\n",
      "Измененный массив \t\t [ 0  1  2  3  4  8  6  7  5  9 10]\n",
      "объединенный массив \t\t [ 0  1  2  3  4  5  6  7  8  9 10  0  1  2  3  4  8  6  7  5  9 10]\n",
      "Три столбца из строки вариант 1(отбрасываем первый ноль как незначащий):\n",
      " [[ 1  2  3]\n",
      " [ 4  5  6]\n",
      " [ 7  8  9]\n",
      " [10  0  1]\n",
      " [ 2  3  4]\n",
      " [ 8  6  7]\n",
      " [ 5  9 10]]\n",
      "Три столбца из строки вариант 2(добавляем два раза по 99 в конец  массива):\n",
      " [[ 0  1  2]\n",
      " [ 3  4  5]\n",
      " [ 6  7  8]\n",
      " [ 9 10  0]\n",
      " [ 1  2  3]\n",
      " [ 4  8  6]\n",
      " [ 7  5  9]\n",
      " [10 77 77]]\n",
      "Три столбца из строки вариант 3 - три одномерных массива с одним столбцом(8+7+7):\n",
      "1-й: [[0]\n",
      " [1]\n",
      " [2]\n",
      " [3]\n",
      " [4]\n",
      " [5]\n",
      " [6]\n",
      " [7]] \n",
      "2-й: [[ 8]\n",
      " [ 9]\n",
      " [10]\n",
      " [ 0]\n",
      " [ 1]\n",
      " [ 2]\n",
      " [ 3]] \n",
      "3-й: [[ 4]\n",
      " [ 8]\n",
      " [ 6]\n",
      " [ 7]\n",
      " [ 5]\n",
      " [ 9]\n",
      " [10]]\n"
     ]
    }
   ],
   "source": [
    "import numpy as np\n",
    "MyAr1=np.array(range(11),int)\n",
    "MyAr2=MyAr1.copy()\n",
    "prom=MyAr2[5]\n",
    "MyAr2[5]=MyAr2[8]\n",
    "MyAr2[8]=prom\n",
    "print(\"Первоначальный массив\\t \\t\",MyAr1)\n",
    "print(\"Измененный массив \\t\\t\",MyAr2)\n",
    "MyAr3=np.concatenate((MyAr1, MyAr2))\n",
    "print(\"объединенный массив \\t\\t\", MyAr3)\n",
    "# для того чтобы длина строки была кратна 3-м - отбрасываем  первый ноль как незначащий\n",
    "MyAr4=MyAr3[1:].reshape((7,3))\n",
    "print(\"Три столбца из строки вариант 1(отбрасываем первый ноль как незначащий):\\n\",MyAr4)\n",
    "\n",
    "# для того чтобы длина строки была кратна 3-м - добавляем два раза по 77 в конец  массива\n",
    "MyAr4=np.concatenate((MyAr3,[77,77])).reshape((8,3))\n",
    "print(\"Три столбца из строки вариант 2(добавляем два раза по 99 в конец  массива):\\n\",MyAr4)\n",
    "\n",
    "# для того чтобы длина строки была кратна 3-м - отбрасываем  первый ноль как незначащий\n",
    "MyAr41=MyAr3[0:8].reshape((8,1))\n",
    "MyAr42=MyAr3[8:15].reshape((7,1))\n",
    "MyAr43=MyAr3[15:].reshape((7,1))\n",
    "print(\"Три столбца из строки вариант 3 - три одномерных массива с одним столбцом(8+7+7):\\n1-й:\",MyAr41,\"\\n2-й:\",MyAr42,\"\\n3-й:\",MyAr43)"
   ]
  },
  {
   "cell_type": "markdown",
   "id": "9b33fcb3",
   "metadata": {},
   "source": [
    "Цель задания\n",
    "\n",
    "В данном задании мы научимся работать и пользоваться библиотекой NumPy.\n",
    "\n",
    "План выполнения\n",
    "\n",
    "Загрузите библиотеку NumPy\n",
    "Используйте библиотеку NumPy для работы в домашнем задании\n",
    " "
   ]
  },
  {
   "cell_type": "markdown",
   "id": "b10355ad",
   "metadata": {},
   "source": [
    "# Урок 20\n"
   ]
  },
  {
   "cell_type": "markdown",
   "id": "41c23988",
   "metadata": {},
   "source": [
    "Создайте класс студентов\n",
    "\n",
    "Создайте класс предметов\n",
    "\n",
    "Используя новый проект, загрузите данные классов и задайте примеру двух студентов и двух направлений\n",
    " \n"
   ]
  },
  {
   "cell_type": "markdown",
   "id": "3305e1d4",
   "metadata": {},
   "source": [
    "Содержание ForModul20:"
   ]
  },
  {
   "cell_type": "code",
   "execution_count": 48,
   "id": "b0770387",
   "metadata": {},
   "outputs": [],
   "source": [
    "\n",
    "class Student:\n",
    "    def __init__(self,name,age,direction):\n",
    "        self.name=name\n",
    "        self.age=age\n",
    "        self.direction=direction\n",
    "\n",
    "    def ShowAboutStudent(self):\n",
    "        print(\"Имя студента - \",self.name)\n",
    "        print(\"Его возраст - \",self.age ,\"а его направление обучения -\", self.direction)\n",
    "        \n",
    "class Case:\n",
    "    def __init__(self,name ,ForDirection,CountClasses):\n",
    "        self.name=name\n",
    "        self.ForDirection=ForDirection\n",
    "        self.CountClasses=CountClasses\n",
    "    "
   ]
  },
  {
   "cell_type": "markdown",
   "id": "3ff2e7e2",
   "metadata": {},
   "source": [
    "Решение задачи:\n"
   ]
  },
  {
   "cell_type": "code",
   "execution_count": 51,
   "id": "c43ed5d1",
   "metadata": {},
   "outputs": [
    {
     "name": "stdout",
     "output_type": "stream",
     "text": [
      "Имя студента -  Вадим\n",
      "Его возраст -  52 а его направление обучения - Data Scientist\n",
      "Имя студента -  Вася\n",
      "Его возраст -  Неопределен а его направление обучения - Неизвестно\n",
      "Для студента  Вадим который учится по напрвлению  Data Scientist  по предмету  Основы Python  количество запланированых занятий равно  24\n",
      "Для студента  Вася который учится по напрвлению  Неизвестно  по предмету  Основы Python  количество запланированых занятий равно  Неопределенность\n"
     ]
    }
   ],
   "source": [
    " from ForModul20 import Student,Case\n",
    "FirstStudent=Student(\"Вадим\",52,\"Data Scientist\")\n",
    "SecondStudent=Student(\"Вася\",\"Неопределен\",\"Неизвестно\")\n",
    "FirstStudent.ShowAboutStudent()\n",
    "SecondStudent.ShowAboutStudent()\n",
    "FirstCaseDS=Case(\"Основы Python\",\"Data Scientist\",24)\n",
    "SecondCaseDS=Case(\"Продвинутые коммуникационные навыки\",\"Data Scientist\",12)\n",
    "\n",
    "FirstCaseN=Case(\"Основы Python\",\"Неизвестно\",\"Неопределенность\")\n",
    "SecondCaseN=Case(\"Продвинутые коммуникационные навыки\",\"Неизвестно\",\"Может быть каким угодно\")\n",
    "\n",
    "print(\"Для студента \",FirstStudent.name,\"который учится по напрвлению \",FirstStudent.direction,\" по предмету \",FirstCaseDS.name,\" количество запланированых занятий равно \",FirstCaseDS.CountClasses)\n",
    "print(\"Для студента \",SecondStudent.name,\"который учится по напрвлению \",SecondStudent.direction,\" по предмету \",FirstCaseN.name,\" количество запланированых занятий равно \",FirstCaseN.CountClasses)\n"
   ]
  },
  {
   "cell_type": "markdown",
   "id": "b9e7dda1",
   "metadata": {},
   "source": [
    "Цель задания\n",
    "В данном задании мы учимся работать с классами\n",
    "\n",
    "План выполнения\n",
    "\n",
    "Создайте класс студентов.\n",
    "Создайте класс предметов\n",
    "Создайте новый файл в Python формате\n",
    "Используйте функции класс из первого файла для того, чтобы вывести имена двух студентов и их направления\n",
    "Задайте функцию вывода\n",
    "                                                                                                             "
   ]
  },
  {
   "cell_type": "markdown",
   "id": "b15ae306",
   "metadata": {},
   "source": [
    "# Урок 21\n"
   ]
  },
  {
   "cell_type": "markdown",
   "id": "e16b55a6",
   "metadata": {},
   "source": [
    "Используйте работу с прошлого задания\n",
    "\n",
    "Добавьте в неё исключения в виде школьников и закончивших ВУЗ\n",
    " \n"
   ]
  },
  {
   "cell_type": "markdown",
   "id": "2c7841b3",
   "metadata": {},
   "source": [
    "Содержание ForModul20:"
   ]
  },
  {
   "cell_type": "code",
   "execution_count": 50,
   "id": "30b32f93",
   "metadata": {},
   "outputs": [],
   "source": [
    "\n",
    "from asyncio import proactor_events\n",
    "\n",
    "\n",
    "class Student:\n",
    "    def __init__(self,name,age,direction, yearOfDiplom):\n",
    "        self.__name=name\n",
    "        self.__age=age\n",
    "        if (len(direction)==0):\n",
    "            print(self.__name,\"- вообще не является студентом, так как у него отсутствует направление\")\n",
    "            self.__direction=\"Пока не студент\"\n",
    "        else:\n",
    "            self.__direction=direction\n",
    "        if (yearOfDiplom<2022):\n",
    "            print(self.__name,\" -не является студентом так как уже закончил ВУЗ в \",yearOfDiplom,\" году\")\n",
    "            self.__yearOfDiplom=\"Уже не студент\"\n",
    "        else:\n",
    "            self.__yearOfDiplom=yearOfDiplom\n",
    "    def set__name(self,name):\n",
    "        self.__name=name\n",
    "    #@property\n",
    "    def get__name(self):\n",
    "        return self.__name\n",
    "    def get__direction(self):\n",
    "        return self.__direction\n",
    "   \n",
    "\n",
    "\n",
    "\n",
    "\n",
    "\n",
    "\n",
    "    def ShowAboutStudent(self):\n",
    "        print(\"Имя студента - \",self.__name)\n",
    "        print(\"Его возраст - \",self.__age )\n",
    "        print(\"а его направление обучения -\", self.__direction)\n",
    "        print(\"Диплом  был/будет от \",self.__yearOfDiplom,\"-го года\\n\")\n",
    "class Case:\n",
    "    def __init__(self,name ,ForDirection,CountClasses):\n",
    "        self.name=name\n",
    "        self.ForDirection=ForDirection\n",
    "        self.CountClasses=CountClasses\n",
    "\n",
    "#FirstStudent=Student(\"Вадим\",52,\"Data Scientist\",2022)\n",
    "#SecondStudent=Student(\"Вася\",\"Неопределен\",\"\",\"\")\n",
    "#print(FirstStudent.direction)\n",
    "#FirstStudent.ShowAboutStudent()\n",
    "#SecondStudent.ShowAboutStudent()"
   ]
  },
  {
   "cell_type": "markdown",
   "id": "6c541bff",
   "metadata": {},
   "source": [
    "Решение задачи:\n"
   ]
  },
  {
   "cell_type": "code",
   "execution_count": 52,
   "id": "d7328b83",
   "metadata": {},
   "outputs": [
    {
     "name": "stdout",
     "output_type": "stream",
     "text": [
      "Имя студента -  Вадим\n",
      "Его возраст -  52\n",
      "а его направление обучения - Data Scientist\n",
      "Диплом  был/будет от  2022 -го года\n",
      "\n",
      "Имя студента -  Вася\n",
      "Его возраст -  Неопределен\n",
      "а его направление обучения - Никто не знает\n",
      "Диплом  был/будет от  2022 -го года\n",
      "\n",
      "Для студента  Вадим который учится по напрвлению  Data Scientist  по предмету  Основы Python  количество запланированых занятий равно  24\n",
      "Для студента  Вася который учится по напрвлению  Никто не знает  по предмету  Основы Python  количество запланированых занятий равно  Неопределенность\n",
      "Ольга - вообще не является студунтом, так как у него отсутствует направление\n",
      "Канат  -не является студентом так как уже закончил ВУЗ в  2020  году\n"
     ]
    }
   ],
   "source": [
    "from ForModul21 import Student,Case\n",
    "FirstStudent=Student(\"Вадим\",52,\"Data Scientist\",2022)\n",
    "SecondStudent=Student(\"Вася\",\"Неопределен\",\"Никто не знает\",2022)\n",
    "FirstStudent.ShowAboutStudent()\n",
    "SecondStudent.ShowAboutStudent()\n",
    "FirstCaseDS=Case(\"Основы Python\",\"Data Scientist\",24)\n",
    "SecondCaseDS=Case(\"Продвинутые коммуникационные навыки\",\"Data Scientist\",12)\n",
    "\n",
    "FirstCaseN=Case(\"Основы Python\",\"Неизвестно\",\"Неопределенность\")\n",
    "SecondCaseN=Case(\"Продвинутые коммуникационные навыки\",\"Неизвестно\",\"Может быть каким угодно\")\n",
    "\n",
    "\n",
    "print(\"Для студента \",FirstStudent.get__name(),\"который учится по напрвлению \",FirstStudent.get__direction(),\" по предмету \",FirstCaseDS.name,\" количество запланированых занятий равно \",FirstCaseDS.CountClasses)\n",
    "print(\"Для студента \",SecondStudent.get__name(),\"который учится по напрвлению \",SecondStudent.get__direction(),\" по предмету \",FirstCaseN.name,\" количество запланированых занятий равно \",FirstCaseN.CountClasses)\n",
    " \n",
    "FirstNewStudent=Student(\"Ольга\",20,\"\",2023)\n",
    "SecondtNewStudent=Student(\"Канат\",27,\"Data Scientist\",2020)\n"
   ]
  },
  {
   "cell_type": "code",
   "execution_count": null,
   "id": "2e04172e",
   "metadata": {},
   "outputs": [],
   "source": []
  }
 ],
 "metadata": {
  "kernelspec": {
   "display_name": "Python 3",
   "language": "python",
   "name": "python3"
  },
  "language_info": {
   "codemirror_mode": {
    "name": "ipython",
    "version": 3
   },
   "file_extension": ".py",
   "mimetype": "text/x-python",
   "name": "python",
   "nbconvert_exporter": "python",
   "pygments_lexer": "ipython3",
   "version": "3.8.8"
  }
 },
 "nbformat": 4,
 "nbformat_minor": 5
}
